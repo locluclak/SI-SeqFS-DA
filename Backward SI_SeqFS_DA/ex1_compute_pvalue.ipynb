{
 "cells": [
  {
   "cell_type": "code",
   "execution_count": 1,
   "metadata": {},
   "outputs": [],
   "source": [
    "import pivot\n",
    "import numpy as np"
   ]
  },
  {
   "cell_type": "code",
   "execution_count": 2,
   "metadata": {},
   "outputs": [],
   "source": [
    "def Backward_SISeqFSDA(truebeta):\n",
    "    ns = 30\n",
    "    nt = 10\n",
    "\n",
    "    p = len(truebeta)\n",
    "\n",
    "    true_beta_s = np.full((p,1), 2) #source's beta\n",
    "    true_beta_t = np.array(truebeta).reshape((-1,1)) #target's beta\n",
    "\n",
    "    k = 3\n",
    "    pvalue = pivot.pvalue_SI(ns, nt, p, true_beta_s, true_beta_t, k)\n",
    "    print(f'p-value correspond to the selected jth feature:\\n{pvalue}')\n"
   ]
  },
  {
   "cell_type": "markdown",
   "metadata": {},
   "source": [
    "Backward SI-SeqFS-DA"
   ]
  },
  {
   "cell_type": "code",
   "execution_count": 3,
   "metadata": {},
   "outputs": [
    {
     "name": "stdout",
     "output_type": "stream",
     "text": [
      "Selected feature jth: [0, 2, 3] True beta: [[1 2 0]]\n",
      "p-value correspond to the selected jth feature:\n",
      "[0.002768718902186329, 1.281532635566407e-08, 0.13484158154274817]\n"
     ]
    }
   ],
   "source": [
    "true_betat= [1, 0,  2, 0]\n",
    "Backward_SISeqFSDA(true_betat)"
   ]
  },
  {
   "cell_type": "code",
   "execution_count": 4,
   "metadata": {},
   "outputs": [],
   "source": [
    "def BackwardSISeqFSDAwith_stoppingCriteria(truebeta, criteria='AIC'):\n",
    "    ns = 30\n",
    "    nt = 10\n",
    "\n",
    "    p = len(truebeta)\n",
    "\n",
    "    true_beta_s = np.full((p,1), 2) #source's beta\n",
    "    true_beta_t = np.array(truebeta).reshape((-1,1)) #target's beta\n",
    "\n",
    "    pvalue = pivot.pvalue_SI(ns, nt, p, true_beta_s, true_beta_t, criteria)\n",
    "    print(f'p-value correspond to the selected jth feature:\\n{pvalue}')"
   ]
  },
  {
   "cell_type": "markdown",
   "metadata": {},
   "source": [
    "Backward SI-SeqFS-DA with Akaike Information Criterion"
   ]
  },
  {
   "cell_type": "code",
   "execution_count": 5,
   "metadata": {},
   "outputs": [
    {
     "name": "stdout",
     "output_type": "stream",
     "text": [
      "Selected feature jth: [0, 2] True beta: [[1 2]]\n",
      "p-value correspond to the selected jth feature:\n",
      "[7.046785704822867e-05, 0.0]\n"
     ]
    }
   ],
   "source": [
    "true_betat = [1, 0,  2, 0]\n",
    "BackwardSISeqFSDAwith_stoppingCriteria(true_betat, 'AIC')"
   ]
  },
  {
   "cell_type": "markdown",
   "metadata": {},
   "source": [
    "Backward SI-SeqFS-DA with Bayesian Information Criterion"
   ]
  },
  {
   "cell_type": "code",
   "execution_count": 6,
   "metadata": {},
   "outputs": [
    {
     "name": "stdout",
     "output_type": "stream",
     "text": [
      "Selected feature jth: [0, 2, 3] True beta: [[1 2 0]]\n",
      "p-value correspond to the selected jth feature:\n",
      "[0.001411741232660857, 0.004818402754956264, 0.1322182243648789]\n"
     ]
    }
   ],
   "source": [
    "true_betat = [1, 0,  2, 0]\n",
    "BackwardSISeqFSDAwith_stoppingCriteria(true_betat, 'BIC')"
   ]
  },
  {
   "cell_type": "markdown",
   "metadata": {},
   "source": [
    "Backward SI-SeqFS-DA with Adjusted $R^2$"
   ]
  },
  {
   "cell_type": "code",
   "execution_count": 7,
   "metadata": {},
   "outputs": [
    {
     "name": "stdout",
     "output_type": "stream",
     "text": [
      "Selected feature jth: [0, 1, 2] True beta: [[1 0 2]]\n",
      "p-value correspond to the selected jth feature:\n",
      "[2.761168336196107e-07, 0.32606529641205656, 3.476808174696089e-09]\n"
     ]
    }
   ],
   "source": [
    "true_betat = [1, 0,  2, 0]\n",
    "BackwardSISeqFSDAwith_stoppingCriteria(true_betat, 'Adjusted R2')"
   ]
  }
 ],
 "metadata": {
  "kernelspec": {
   "display_name": "base",
   "language": "python",
   "name": "python3"
  },
  "language_info": {
   "codemirror_mode": {
    "name": "ipython",
    "version": 3
   },
   "file_extension": ".py",
   "mimetype": "text/x-python",
   "name": "python",
   "nbconvert_exporter": "python",
   "pygments_lexer": "ipython3",
   "version": "3.11.5"
  }
 },
 "nbformat": 4,
 "nbformat_minor": 2
}
