{
 "cells": [
  {
   "cell_type": "code",
   "execution_count": 1,
   "metadata": {},
   "outputs": [],
   "source": [
    "from modules import gendata, SI_SeqFS_DA, DA_SeqFS\n",
    "import numpy as np"
   ]
  },
  {
   "cell_type": "markdown",
   "metadata": {},
   "source": [
    "## Forward Sequential Selection"
   ]
  },
  {
   "cell_type": "markdown",
   "metadata": {},
   "source": [
    "### SI-SeqFS-DA with Forward Selection"
   ]
  },
  {
   "cell_type": "code",
   "execution_count": 2,
   "metadata": {},
   "outputs": [
    {
     "name": "stdout",
     "output_type": "stream",
     "text": [
      "true beta: [1, 0, 2, 0]\n",
      "Index of selected features: {0, 2}\n",
      "Applying SI-SeqFS-DA to calculate p-value of the selected features:\n",
      "    p-value of feature 0: 0.00011854898347873899\n",
      "    p-value of feature 2: 8.215650382226158e-15\n"
     ]
    }
   ],
   "source": [
    "ns = 30\n",
    "nt = 15\n",
    "truebeta= [1, 0,  2, 0]\n",
    "p = len(truebeta)\n",
    "print('true beta:', truebeta)\n",
    "\n",
    "true_beta_s = np.full((p,1), 2) #source's beta\n",
    "true_beta_t = np.array(truebeta).reshape((-1,1)) #target's beta\n",
    "\n",
    "K = 2 # select k features\n",
    "# generate data\n",
    "Xs, Xt, Ys, Yt, Sigma_s, Sigma_t = gendata.generate(ns, nt, p, true_beta_s, true_beta_t)\n",
    "\n",
    "# apply DA-SeqFS to select features\n",
    "list_selected_features = DA_SeqFS.DA_SeqFS(Xs, Ys, Xt, Yt, Sigma_s, Sigma_t,K, method='forward')\n",
    "\n",
    "# SI-SeqFS-DA to calculate p-value of the selected features\n",
    "print('Index of selected features:', '{' + ', '.join(map(str, list_selected_features)) + '}')\n",
    "print('Applying SI-SeqFS-DA to calculate p-value of the selected features:')\n",
    "for j in range(len(list_selected_features)):\n",
    "    pvalue = SI_SeqFS_DA.SI_SeqFS_DA(Xs, Ys, Xt, Yt, K, Sigma_s, Sigma_t, method='forward', jth = j)\n",
    "    print(f'    p-value of feature {list_selected_features[j]}: {pvalue}')"
   ]
  },
  {
   "cell_type": "markdown",
   "metadata": {},
   "source": [
    "### SI-SeqFS-DA with Forward Selection based Akaike Information Criterion"
   ]
  },
  {
   "cell_type": "code",
   "execution_count": 3,
   "metadata": {},
   "outputs": [
    {
     "name": "stdout",
     "output_type": "stream",
     "text": [
      "true beta: [1, 0, 2, 0]\n",
      "Index of selected features: {0, 2, 3}\n",
      "Applying SI-SeqFS-DA to calculate p-value of the selected features:\n",
      "    p-value of feature 0: 0.0034794091699619223\n",
      "    p-value of feature 2: 3.946598603477014e-11\n",
      "    p-value of feature 3: 0.5956429431107668\n"
     ]
    }
   ],
   "source": [
    "print('true beta:', truebeta)\n",
    "\n",
    "K = 'AIC' # use AIC to select features\n",
    "\n",
    "# apply DA-SeqFS to select features\n",
    "list_selected_features = DA_SeqFS.DA_SeqFS(Xs, Ys, Xt, Yt, Sigma_s, Sigma_t,K, method='forward')\n",
    "\n",
    "# SI-SeqFS-DA to calculate p-value of the selected features\n",
    "print('Index of selected features:', '{' + ', '.join(map(str, list_selected_features)) + '}')\n",
    "print('Applying SI-SeqFS-DA to calculate p-value of the selected features:')\n",
    "for j in range(len(list_selected_features)):\n",
    "    pvalue = SI_SeqFS_DA.SI_SeqFS_DA(Xs, Ys, Xt, Yt, K, Sigma_s, Sigma_t, method='forward', jth = j)\n",
    "    print(f'    p-value of feature {list_selected_features[j]}: {pvalue}')"
   ]
  },
  {
   "cell_type": "markdown",
   "metadata": {},
   "source": [
    "### SI-SeqFS-DA with Forward Selection based Bayesian Information Criterion"
   ]
  },
  {
   "cell_type": "code",
   "execution_count": 4,
   "metadata": {},
   "outputs": [
    {
     "name": "stdout",
     "output_type": "stream",
     "text": [
      "true beta: [1, 0, 2, 0]\n",
      "Index of selected features: {0, 2, 3}\n",
      "Applying SI-SeqFS-DA to calculate p-value of the selected features:\n",
      "    p-value of feature 0: 0.9841180439703707\n",
      "    p-value of feature 2: 7.898339442480307e-07\n",
      "    p-value of feature 3: 0.9490315619966485\n"
     ]
    }
   ],
   "source": [
    "print('true beta:', truebeta)\n",
    "\n",
    "K = 'BIC' # use BIC to select features\n",
    "\n",
    "# apply DA-SeqFS to select features\n",
    "list_selected_features = DA_SeqFS.DA_SeqFS(Xs, Ys, Xt, Yt, Sigma_s, Sigma_t,K, method='forward')\n",
    "\n",
    "# SI-SeqFS-DA to calculate p-value of the selected features\n",
    "print('Index of selected features:', '{' + ', '.join(map(str, list_selected_features)) + '}')\n",
    "print('Applying SI-SeqFS-DA to calculate p-value of the selected features:')\n",
    "for j in range(len(list_selected_features)):\n",
    "    pvalue = SI_SeqFS_DA.SI_SeqFS_DA(Xs, Ys, Xt, Yt, K, Sigma_s, Sigma_t, method='forward', jth = j)\n",
    "    print(f'    p-value of feature {list_selected_features[j]}: {pvalue}')"
   ]
  },
  {
   "cell_type": "markdown",
   "metadata": {},
   "source": [
    "### SI-SeqFS-DA with Forward Selection based Adjusted $R^2$"
   ]
  },
  {
   "cell_type": "code",
   "execution_count": 5,
   "metadata": {},
   "outputs": [
    {
     "name": "stdout",
     "output_type": "stream",
     "text": [
      "true beta: [1, 0, 2, 0]\n",
      "Index of selected features: {0, 2, 3}\n",
      "Applying SI-SeqFS-DA to calculate p-value of the selected features:\n",
      "    p-value of feature 0: 0.00035905873206365513\n",
      "    p-value of feature 2: 6.390443729742401e-13\n",
      "    p-value of feature 3: 0.47026241389262746\n"
     ]
    }
   ],
   "source": [
    "print('true beta:', truebeta)\n",
    "\n",
    "K = 'Adjusted R2' # use AdjR2 to select features\n",
    "\n",
    "# apply DA-SeqFS to select features\n",
    "list_selected_features = DA_SeqFS.DA_SeqFS(Xs, Ys, Xt, Yt, Sigma_s, Sigma_t,K, method='forward')\n",
    "\n",
    "# SI-SeqFS-DA to calculate p-value of the selected features\n",
    "print('Index of selected features:', '{' + ', '.join(map(str, list_selected_features)) + '}')\n",
    "print('Applying SI-SeqFS-DA to calculate p-value of the selected features:')\n",
    "for j in range(len(list_selected_features)):\n",
    "    pvalue = SI_SeqFS_DA.SI_SeqFS_DA(Xs, Ys, Xt, Yt, K, Sigma_s, Sigma_t, method='forward', jth = j)\n",
    "    print(f'    p-value of feature {list_selected_features[j]}: {pvalue}')"
   ]
  },
  {
   "cell_type": "markdown",
   "metadata": {},
   "source": [
    "## Backward Sequential Selection"
   ]
  },
  {
   "cell_type": "markdown",
   "metadata": {},
   "source": [
    "### SI-SeqFS-DA with Backward Selection"
   ]
  },
  {
   "cell_type": "code",
   "execution_count": 6,
   "metadata": {},
   "outputs": [
    {
     "name": "stdout",
     "output_type": "stream",
     "text": [
      "true beta: [1, 0, 2, 0]\n",
      "Index of selected features: {0, 2}\n",
      "Applying SI-SeqFS-DA to calculate p-value of the selected features:\n",
      "    p-value of feature 0: 2.0592767935312395e-07\n",
      "    p-value of feature 2: 2.625055728344705e-11\n"
     ]
    }
   ],
   "source": [
    "ns = 30\n",
    "nt = 15\n",
    "truebeta= [1, 0,  2, 0]\n",
    "p = len(truebeta)\n",
    "print('true beta:', truebeta)\n",
    "\n",
    "true_beta_s = np.full((p,1), 2) #source's beta\n",
    "true_beta_t = np.array(truebeta).reshape((-1,1)) #target's beta\n",
    "\n",
    "K = 2 # select k features\n",
    "# generate data\n",
    "Xs, Xt, Ys, Yt, Sigma_s, Sigma_t = gendata.generate(ns, nt, p, true_beta_s, true_beta_t)\n",
    "\n",
    "# apply DA-SeqFS to select features\n",
    "list_selected_features = DA_SeqFS.DA_SeqFS(Xs, Ys, Xt, Yt, Sigma_s, Sigma_t,K, method='backward')\n",
    "\n",
    "# SI-SeqFS-DA to calculate p-value of the selected features\n",
    "print('Index of selected features:', '{' + ', '.join(map(str, list_selected_features)) + '}')\n",
    "print('Applying SI-SeqFS-DA to calculate p-value of the selected features:')\n",
    "for j in range(len(list_selected_features)):\n",
    "    pvalue = SI_SeqFS_DA.SI_SeqFS_DA(Xs, Ys, Xt, Yt, K, Sigma_s, Sigma_t, method='backward', jth = j)\n",
    "    print(f'    p-value of feature {list_selected_features[j]}: {pvalue}')"
   ]
  },
  {
   "cell_type": "markdown",
   "metadata": {},
   "source": [
    "### SI-SeqFS-DA with Backward Selection based Akaike Information Criterion"
   ]
  },
  {
   "cell_type": "code",
   "execution_count": 7,
   "metadata": {},
   "outputs": [
    {
     "name": "stdout",
     "output_type": "stream",
     "text": [
      "true beta: [1, 0, 2, 0]\n",
      "Index of selected features: {0, 2}\n",
      "Applying SI-SeqFS-DA to calculate p-value of the selected features:\n",
      "    p-value of feature 0: 2.3112021452220688e-07\n",
      "    p-value of feature 2: 2.7891244869238108e-11\n"
     ]
    }
   ],
   "source": [
    "print('true beta:', truebeta)\n",
    "\n",
    "K = 'AIC' # use AIC to select features\n",
    "\n",
    "# apply DA-SeqFS to select features\n",
    "list_selected_features = DA_SeqFS.DA_SeqFS(Xs, Ys, Xt, Yt, Sigma_s, Sigma_t,K, method='backward')\n",
    "\n",
    "# SI-SeqFS-DA to calculate p-value of the selected features\n",
    "print('Index of selected features:', '{' + ', '.join(map(str, list_selected_features)) + '}')\n",
    "print('Applying SI-SeqFS-DA to calculate p-value of the selected features:')\n",
    "for j in range(len(list_selected_features)):\n",
    "    pvalue = SI_SeqFS_DA.SI_SeqFS_DA(Xs, Ys, Xt, Yt, K, Sigma_s, Sigma_t, method='backward', jth = j)\n",
    "    print(f'    p-value of feature {list_selected_features[j]}: {pvalue}')"
   ]
  },
  {
   "cell_type": "markdown",
   "metadata": {},
   "source": [
    "### SI-SeqFS-DA with Backward Selection based Bayesian Information Criterion"
   ]
  },
  {
   "cell_type": "code",
   "execution_count": 8,
   "metadata": {},
   "outputs": [
    {
     "name": "stdout",
     "output_type": "stream",
     "text": [
      "true beta: [1, 0, 2, 0]\n",
      "Index of selected features: {0, 2}\n",
      "Applying SI-SeqFS-DA to calculate p-value of the selected features:\n",
      "    p-value of feature 0: 3.4570321938431903e-07\n",
      "    p-value of feature 2: 4.427236355297737e-11\n"
     ]
    }
   ],
   "source": [
    "print('true beta:', truebeta)\n",
    "\n",
    "K = 'BIC' # use BIC to select features\n",
    "\n",
    "# apply DA-SeqFS to select features\n",
    "list_selected_features = DA_SeqFS.DA_SeqFS(Xs, Ys, Xt, Yt, Sigma_s, Sigma_t,K, method='backward')\n",
    "\n",
    "# SI-SeqFS-DA to calculate p-value of the selected features\n",
    "print('Index of selected features:', '{' + ', '.join(map(str, list_selected_features)) + '}')\n",
    "print('Applying SI-SeqFS-DA to calculate p-value of the selected features:')\n",
    "for j in range(len(list_selected_features)):\n",
    "    pvalue = SI_SeqFS_DA.SI_SeqFS_DA(Xs, Ys, Xt, Yt, K, Sigma_s, Sigma_t, method='backward', jth = j)\n",
    "    print(f'    p-value of feature {list_selected_features[j]}: {pvalue}')"
   ]
  },
  {
   "cell_type": "markdown",
   "metadata": {},
   "source": [
    "### SI-SeqFS-DA with Backward Selection based Adjusted $R^2$"
   ]
  },
  {
   "cell_type": "code",
   "execution_count": 9,
   "metadata": {},
   "outputs": [
    {
     "name": "stdout",
     "output_type": "stream",
     "text": [
      "true beta: [1, 0, 2, 0]\n",
      "Index of selected features: {0, 1, 2}\n",
      "Applying SI-SeqFS-DA to calculate p-value of the selected features:\n",
      "    p-value of feature 0: 2.251991701118783e-06\n",
      "    p-value of feature 1: 0.627039414960533\n",
      "    p-value of feature 2: 2.4596547021360493e-11\n"
     ]
    }
   ],
   "source": [
    "print('true beta:', truebeta)\n",
    "\n",
    "K = 'Adjusted R2' # use AdjR2 to select features\n",
    "\n",
    "# apply DA-SeqFS to select features\n",
    "list_selected_features = DA_SeqFS.DA_SeqFS(Xs, Ys, Xt, Yt, Sigma_s, Sigma_t,K, method='backward')\n",
    "\n",
    "# SI-SeqFS-DA to calculate p-value of the selected features\n",
    "print('Index of selected features:', '{' + ', '.join(map(str, list_selected_features)) + '}')\n",
    "print('Applying SI-SeqFS-DA to calculate p-value of the selected features:')\n",
    "for j in range(len(list_selected_features)):\n",
    "    pvalue = SI_SeqFS_DA.SI_SeqFS_DA(Xs, Ys, Xt, Yt, K, Sigma_s, Sigma_t, method='backward', jth = j)\n",
    "    print(f'    p-value of feature {list_selected_features[j]}: {pvalue}')"
   ]
  },
  {
   "cell_type": "code",
   "execution_count": null,
   "metadata": {},
   "outputs": [],
   "source": []
  }
 ],
 "metadata": {
  "kernelspec": {
   "display_name": "base",
   "language": "python",
   "name": "python3"
  },
  "language_info": {
   "codemirror_mode": {
    "name": "ipython",
    "version": 3
   },
   "file_extension": ".py",
   "mimetype": "text/x-python",
   "name": "python",
   "nbconvert_exporter": "python",
   "pygments_lexer": "ipython3",
   "version": "3.11.5"
  }
 },
 "nbformat": 4,
 "nbformat_minor": 2
}
