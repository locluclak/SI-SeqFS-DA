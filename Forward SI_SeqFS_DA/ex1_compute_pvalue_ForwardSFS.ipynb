{
 "cells": [
  {
   "cell_type": "code",
   "execution_count": 1,
   "id": "c41821b4",
   "metadata": {},
   "outputs": [],
   "source": [
    "import pivot\n",
    "import numpy as np"
   ]
  },
  {
   "cell_type": "code",
   "execution_count": 2,
   "id": "98c903cf",
   "metadata": {},
   "outputs": [],
   "source": [
    "def Forward_SISeqFSDA(truebeta):\n",
    "    ns = 30\n",
    "    nt = 10\n",
    "\n",
    "    p = len(truebeta)\n",
    "\n",
    "    true_beta_s = np.full((p,1), 2) #source's beta\n",
    "    true_beta_t = np.array(truebeta).reshape((-1,1)) #target's beta\n",
    "\n",
    "    k = 3\n",
    "    pvalue = pivot.pvalue_SI(ns, nt, p, true_beta_s, true_beta_t, k)\n",
    "    print(f'p-value correspond to the selected jth feature:\\n{pvalue}')\n"
   ]
  },
  {
   "cell_type": "markdown",
   "id": "0cbf9c36",
   "metadata": {},
   "source": [
    "Forward SI-SeqFS-DA"
   ]
  },
  {
   "cell_type": "code",
   "execution_count": 3,
   "id": "d8c82523",
   "metadata": {},
   "outputs": [
    {
     "name": "stdout",
     "output_type": "stream",
     "text": [
      "Selected feature jth: [3, 1, 0] True beta: [[0 1 2]]\n",
      "p-value correspond to the selected jth feature:\n",
      "[0.6099567650709368, 0.0007319350526344692, 1.2790547954111275e-08]\n"
     ]
    }
   ],
   "source": [
    "Forward_SISeqFSDA([0, 1,  0, 2])"
   ]
  },
  {
   "cell_type": "code",
   "execution_count": 4,
   "id": "2fcfaac3",
   "metadata": {},
   "outputs": [],
   "source": [
    "def ForwardSISeqFSDAwith_stopCriteria(truebeta, crittype):\n",
    "    ns = 30\n",
    "    nt = 10\n",
    "\n",
    "    p = len(truebeta)\n",
    "\n",
    "    true_beta_s = np.full((p,1), 2) #source's beta\n",
    "    true_beta_t = np.array(truebeta).reshape((-1,1)) #target's beta\n",
    "\n",
    "    pvalue = pivot.pvalue_SI(ns, nt, p, true_beta_s, true_beta_t, crittype)\n",
    "    print(f'p-value correspond to the selected jth feature:\\n{pvalue}')"
   ]
  },
  {
   "cell_type": "markdown",
   "id": "b664892c",
   "metadata": {},
   "source": [
    "Forward SI-SeqFS-DA with Akaike Information Criterion"
   ]
  },
  {
   "cell_type": "code",
   "execution_count": 5,
   "id": "7f29fe41",
   "metadata": {},
   "outputs": [
    {
     "name": "stdout",
     "output_type": "stream",
     "text": [
      "Selected feature jth: [3, 1, 2, 0] True beta: [[0 1 0 2]]\n",
      "p-value correspond to the selected jth feature:\n",
      "[0.9433651622611324, 2.656039634008067e-06, 0.8891709223323085, 5.601634203156181e-07]\n"
     ]
    }
   ],
   "source": [
    "ForwardSISeqFSDAwith_stopCriteria([0, 1,  0, 2], crittype = 'AIC')"
   ]
  },
  {
   "cell_type": "markdown",
   "id": "f0292bf3",
   "metadata": {},
   "source": [
    "Forward SI-SeqFS-DA with Bayesian Information Criterion"
   ]
  },
  {
   "cell_type": "code",
   "execution_count": 6,
   "id": "e40bc5a4",
   "metadata": {},
   "outputs": [
    {
     "name": "stdout",
     "output_type": "stream",
     "text": [
      "Selected feature jth: [1, 3] True beta: [[1 2]]\n",
      "p-value correspond to the selected jth feature:\n",
      "[0.0007857310258345684, 0.0007269149053579227]\n"
     ]
    }
   ],
   "source": [
    "ForwardSISeqFSDAwith_stopCriteria([0, 1,  0, 2], crittype = 'BIC')"
   ]
  },
  {
   "cell_type": "markdown",
   "id": "f8e29062",
   "metadata": {},
   "source": [
    "Forward SI-SeqFS-DA with Adjusted $R^2$"
   ]
  },
  {
   "cell_type": "code",
   "execution_count": 7,
   "id": "155c14eb",
   "metadata": {},
   "outputs": [
    {
     "name": "stdout",
     "output_type": "stream",
     "text": [
      "Selected feature jth: [3, 1] True beta: [[1 2]]\n",
      "p-value correspond to the selected jth feature:\n",
      "[0.0003547574618603111, 9.369715914253618e-08]\n"
     ]
    }
   ],
   "source": [
    "ForwardSISeqFSDAwith_stopCriteria([0, 1,  0, 2], crittype = 'Adjusted R2')\n"
   ]
  }
 ],
 "metadata": {
  "kernelspec": {
   "display_name": "base",
   "language": "python",
   "name": "python3"
  },
  "language_info": {
   "codemirror_mode": {
    "name": "ipython",
    "version": 3
   },
   "file_extension": ".py",
   "mimetype": "text/x-python",
   "name": "python",
   "nbconvert_exporter": "python",
   "pygments_lexer": "ipython3",
   "version": "3.11.5"
  }
 },
 "nbformat": 4,
 "nbformat_minor": 5
}
